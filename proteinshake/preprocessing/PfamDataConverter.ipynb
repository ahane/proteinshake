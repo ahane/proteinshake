{
 "metadata": {
  "name": "",
  "signature": "sha256:81d35e7f9c68832fea29b1c2a7f3ae8cd491b22437b0f60545d23f9d02687b1a"
 },
 "nbformat": 3,
 "nbformat_minor": 0,
 "worksheets": [
  {
   "cells": [
    {
     "cell_type": "code",
     "collapsed": false,
     "input": [
      "import os"
     ],
     "language": "python",
     "metadata": {},
     "outputs": [],
     "prompt_number": 15
    },
    {
     "cell_type": "code",
     "collapsed": false,
     "input": [],
     "language": "python",
     "metadata": {},
     "outputs": [],
     "prompt_number": 15
    },
    {
     "cell_type": "code",
     "collapsed": false,
     "input": [
      "def open_sequences(filename):\n",
      "    with open('alignments_Pfam26/'+filename+'.txt') as alignments_file:\n",
      "        alignments = alignments_file.readlines()\n",
      "        sequences = [a.strip() for a in alignments if not (a[0] == '>')]\n",
      "    return sequences"
     ],
     "language": "python",
     "metadata": {},
     "outputs": [],
     "prompt_number": 16
    },
    {
     "cell_type": "code",
     "collapsed": false,
     "input": [
      "def open_distances(filename):\n",
      "    with open('distances_Pfam26/'+filename+'_distances.txt') as distF:\n",
      "        dist_lines = distF.readlines()\n",
      "        dist_info = [d.strip().split(' ') for d in dist_lines]\n",
      "    \n",
      "    #(first_site, second_site, amino_a, amino_b, distance)\n",
      "    return dist_info"
     ],
     "language": "python",
     "metadata": {},
     "outputs": [],
     "prompt_number": 17
    },
    {
     "cell_type": "code",
     "collapsed": false,
     "input": [
      "#Our provided data starts counting the sites at 1.\n",
      "#We prefer starting at 0 and therefore shift all indexes\n",
      "#def reformat_distances(dist_info):\n",
      "##    #We also drop the fields indicating the amino acid that was at the measured site\n",
      "#    parsed_info  = [drop_fields_and_parse(row) for row in dist_info]\n",
      "#    shifted_info = [shift_index_minus_one(row) for row in parsed_info]\n",
      "#    return shifted_info\n",
      "\n",
      "def drop_fields_and_parse(dist_info_row):\n",
      "    #we keep (first_site, second_site, distance)\n",
      "    return (int(dist_info_row[0]), int(dist_info_row[1]), float(dist_info_row[4]))\n",
      "\n",
      "def shift_index_minus_one(parsed_dist_info_row):\n",
      "    #and then shift the index\n",
      "    return (parsed_dist_info_row[0] - 1, parsed_dist_info_row[1] - 1, parsed_dist_info_row[2])"
     ],
     "language": "python",
     "metadata": {},
     "outputs": [],
     "prompt_number": 18
    },
    {
     "cell_type": "code",
     "collapsed": false,
     "input": [
      "#All datasets have data for the 0th (or 1st, by the original way of counting) site missing\n",
      "#We therefore chop the first site from the sequences, and adjust our indexes in the dist_info again.\n",
      "#before this function the minimum \n",
      "# def handle_missing_first_site(sequences, dist_info):\n",
      "#     dist_minimum = min(map(lambda x: x[0], dist_info))\n",
      "#     dist_maximum = max(map(lambda x: x[1], dist_info))\n",
      "#     seq_maximum = len(sequences[0]) - 1\n",
      "#     if dist_minimum == 1 and dist_maximum == seq_maximum:\n",
      "#         sequences_chopped = [s[1:] for s in sequences]\n",
      "#         shifted_distances = [shift_index_minus_one(row) for row in dist_info]\n",
      "#         return (sequences_chopped, shifted_distances)\n",
      "#     else:\n",
      "#         raise Exception(\"Corrupt Data\")\n",
      "        \n",
      "    "
     ],
     "language": "python",
     "metadata": {},
     "outputs": [],
     "prompt_number": 19
    },
    {
     "cell_type": "code",
     "collapsed": false,
     "input": [
      "# def chop_of_first_site(sequences):\n",
      "#     sequences_chopped = [s[1:] for s in sequences]\n",
      "#     return sequences_chopped"
     ],
     "language": "python",
     "metadata": {},
     "outputs": [],
     "prompt_number": 20
    },
    {
     "cell_type": "code",
     "collapsed": false,
     "input": [
      "def distance_tuples_to_dict(dist_info):\n",
      "    dist_dict = {}\n",
      "    for row in dist_info:\n",
      "        first = row[0]\n",
      "        second = row[1]\n",
      "        value = row[2]\n",
      "        if first in dist_dict.keys():\n",
      "            dist_dict[first][second] = value\n",
      "        else:\n",
      "            dist_dict[first] = {second: value}\n",
      "    return dist_dict"
     ],
     "language": "python",
     "metadata": {},
     "outputs": [],
     "prompt_number": 21
    },
    {
     "cell_type": "code",
     "collapsed": false,
     "input": [
      "from copy import deepcopy\n",
      "def distance_dict_to_postivies_strings(dist_dict, threshold):\n",
      "    #bool_dict = deepcopy(dist_dict)\n",
      "    positives = []\n",
      "    for first in dist_dict.keys():\n",
      "        for second in dist_dict[first].keys():\n",
      "            is_interacting = (dist_dict[first][second] <= threshold)\n",
      "            if is_interacting:\n",
      "                positives.append( str(str(first) + \";\" + str(second)) )\n",
      "    return positives"
     ],
     "language": "python",
     "metadata": {},
     "outputs": [],
     "prompt_number": 22
    },
    {
     "cell_type": "code",
     "collapsed": false,
     "input": [
      "def distance_dict_to_postivies_strings_with_distance(dist_dict, threshold):\n",
      "    #bool_dict = deepcopy(dist_dict)\n",
      "    positives = []\n",
      "    for first in dist_dict.keys():\n",
      "        for second in dist_dict[first].keys():\n",
      "            distance = dist_dict[first][second]\n",
      "            is_interacting = (distance <= threshold)\n",
      "            if is_interacting:\n",
      "                positives.append( (str(str(first) + \";\" + str(second)), distance) )\n",
      "    return positives"
     ],
     "language": "python",
     "metadata": {},
     "outputs": [],
     "prompt_number": 23
    },
    {
     "cell_type": "code",
     "collapsed": false,
     "input": [
      "def open_and_format(filename, minimum_distance, with_distances):\n",
      "    sequences = open_sequences(filename)\n",
      "    distances = open_distances(filename)\n",
      "    \n",
      "    distances_reformatted = [drop_fields_and_parse(row) for row in distances]\n",
      "    distances_shifted_by_one = [shift_index_minus_one(row) for row in distances_reformatted]\n",
      "    #distances_shifted_by_two = [shift_index_minus_one(row) for row in distances_shifted_by_one]\n",
      "    \n",
      "    dist_dict = distance_tuples_to_dict(distances_shifted_by_one)\n",
      "    #sequences_fixed, dist_fixed = handle_missing_first_site(sequences, distances_reformatted)\n",
      "    #dist_dict = distance_tuples_to_dict(dist_fixed)\n",
      "    #dist_dct = distance_tuples_to_dict(distances_reformatted) #this should be wrong, the above correct\n",
      "    if with_distances:\n",
      "        positives = distance_dict_to_postivies_strings_with_distance(dist_dict, minimum_distance)\n",
      "    else:\n",
      "        positives = distance_dict_to_postivies_strings(dist_dict, minimum_distance)\n",
      "    #return sequences_fixed, positives\n",
      "    return sequences, positives\n"
     ],
     "language": "python",
     "metadata": {},
     "outputs": [],
     "prompt_number": 24
    },
    {
     "cell_type": "code",
     "collapsed": false,
     "input": [
      "def create_dict(sequences, positives, name):\n",
      "    all_dict = {}\n",
      "    all_dict['name'] = name\n",
      "    all_dict['sequences'] = sequences\n",
      "    all_dict['connections'] = list(positives)\n",
      "    return all_dict"
     ],
     "language": "python",
     "metadata": {},
     "outputs": [],
     "prompt_number": 25
    },
    {
     "cell_type": "code",
     "collapsed": false,
     "input": [
      "import json\n",
      "def save_dict_as_json(all_dict, fileext):\n",
      "    name = all_dict['name']\n",
      "    json_string = json.dumps(all_dict, sort_keys=True, indent=4, separators=(',', ': '))\n",
      "    with open(name + fileext + '.json', 'w') as sink:\n",
      "        sink.write(json_string)\n",
      "        "
     ],
     "language": "python",
     "metadata": {},
     "outputs": [],
     "prompt_number": 26
    },
    {
     "cell_type": "code",
     "collapsed": false,
     "input": [
      "def process_all(fileext, minimum_distance, with_distances):\n",
      "    filenames = map(lambda x: x[:-4], os.listdir('alignments_Pfam26'))\n",
      "    for filename in filenames:\n",
      "        try:\n",
      "            sequences, positives = open_and_format(filename, minimum_distance, with_distances)\n",
      "            all_dict = create_dict(sequences, positives, filename)\n",
      "            save_dict_as_json(all_dict, fileext)\n",
      "        except Exception as e:\n",
      "            print(e)\n",
      "            print(filename + \" not working\")"
     ],
     "language": "python",
     "metadata": {},
     "outputs": [],
     "prompt_number": 14
    },
    {
     "cell_type": "code",
     "collapsed": false,
     "input": [
      "os.listdir('alignments_Pfam26')"
     ],
     "language": "python",
     "metadata": {},
     "outputs": [
      {
       "metadata": {},
       "output_type": "pyout",
       "prompt_number": 28,
       "text": [
        "['PF00014.txt']"
       ]
      }
     ],
     "prompt_number": 28
    },
    {
     "cell_type": "code",
     "collapsed": false,
     "input": [
      "%rm PF00017.json"
     ],
     "language": "python",
     "metadata": {},
     "outputs": [
      {
       "output_type": "stream",
       "stream": "stdout",
       "text": [
        "rm: remove regular file \u2018PF00017.json\u2019? "
       ]
      },
      {
       "output_type": "stream",
       "stream": "stdout",
       "text": [
        "^C\r\n"
       ]
      }
     ],
     "prompt_number": 21
    },
    {
     "cell_type": "code",
     "collapsed": false,
     "input": [
      "process_all('less_than_8A', minimum_distance=8, with_distances=False)\n",
      "process_all('all', minimum_distance=float('inf'), with_distances=True)"
     ],
     "language": "python",
     "metadata": {},
     "outputs": [],
     "prompt_number": 29
    },
    {
     "cell_type": "code",
     "collapsed": false,
     "input": [
      "##dont really need this anymore\n",
      "def similarity(seq1, seq2):\n",
      "    num_same = 0\n",
      "    num_sites = len(seq1)\n",
      "    if num_sites == len(seq2):\n",
      "        num_same = sum([1 for i, c in enumerate(seq1) if c == seq2[i]])\n",
      "    else:\n",
      "        raise Exception(\"Corrupt Data\")\n",
      "    return float(num_same)/num_sites\n",
      "def ratio_similar_sequences(seq, sequences, similarity_threshold=0.8):\n",
      "    num_similar = sum([1 for s in sequences if similarity(seq, s) > similarity_threshold])\n",
      "    return float(num_similar)/len(sequences)\n",
      "def filter_sequences(sequences, too_many_similar_seqs=0.8):\n",
      "    filtered = [s for s in sequences if ratio_similar_sequences(s, sequences) < too_many_similar_seqs]\n",
      "    return filtered"
     ],
     "language": "python",
     "metadata": {},
     "outputs": []
    },
    {
     "cell_type": "code",
     "collapsed": false,
     "input": [
      "from copy import deepcopy\n",
      "def distance_dict_to_bool_dict(dist_dict, threshold):\n",
      "    bool_dict = deepcopy(dist_dict)\n",
      "    for first in bool_dict.keys():\n",
      "        for second in bool_dict[first].keys():\n",
      "            is_interacting = (bool_dict[first][second] <= threshold)\n",
      "            if is_interacting:\n",
      "                bool_dict[first][second] = True\n",
      "            else:\n",
      "                del bool_dict[first][second]\n",
      "        if not bool_dict[first].keys():\n",
      "            del bool_dict[first]\n",
      "    return bool_dict"
     ],
     "language": "python",
     "metadata": {},
     "outputs": []
    }
   ],
   "metadata": {}
  }
 ]
}